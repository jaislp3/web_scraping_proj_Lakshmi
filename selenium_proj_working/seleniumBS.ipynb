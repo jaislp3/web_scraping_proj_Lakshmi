{
 "cells": [
  {
   "cell_type": "code",
   "execution_count": null,
   "metadata": {},
   "outputs": [],
   "source": [
    "from selenium import webdriver\n",
    "from selenium.webdriver.common.by import By\n",
    "from selenium.webdriver.support.ui import WebDriverWait\n",
    "from selenium.webdriver.support import expected_conditions as EC\n",
    "import time\n",
    "import re\n",
    "from bs4 import BeautifulSoup\n",
    "\n",
    "col1_list = []\n",
    "col2_list = []\n",
    "col3_list = []\n",
    "col4_list = []\n",
    "col5_list = []\n",
    "col6_list = []\n",
    "col7_list = []\n",
    "\n",
    "current_button=None\n",
    "next_button=None\n",
    "\n",
    "driver = webdriver.Chrome('C:/Users/My/chromedriver.exe')\n",
    "\n",
    "#driver = webdriver.Firefox()\n",
    "#assert \"U.S. Agency for International Develpoment\" in driver.title\n",
    "# Go to the page that we want to scrape\n",
    "driver.get(\"https://explorer.usaid.gov/query\")\n",
    "time.sleep(90)   #during this time, apply filters: Set transaction type: Disbursements, 100 per page \n",
    "\n",
    "\n",
    "index=1\n",
    "while True:\n",
    "    try:\n",
    "        time.sleep(90)\n",
    "            #if current_button is not None:\n",
    "            #    WebDriverWait(driver, 10).until(EC.staleness_of(prev_button))\n",
    "        print(\"Scraping Page number \" + str(index))\n",
    "        index = index + 1\n",
    "\n",
    "        pagesource = driver.page_source\n",
    "        soup = BeautifulSoup(pagesource, 'html.parser')\n",
    "        table = soup.find(class_='table-content')\n",
    "        tr = table.find_all('tr')\n",
    "\n",
    "        for row in tr:\n",
    "            cells = row.find_all('td')\n",
    "\n",
    "            if len(cells) ==7:\n",
    "                col1_list.append(cells[0].find(text=True))\n",
    "                col2_list.append(cells[1].find(text=True))\n",
    "                col3_list.append(cells[2].find(text=True))\n",
    "                col4_list.append(cells[3].find(text=True))\n",
    "                col5_list.append(cells[4].find(text=True))\n",
    "                col6_list.append(cells[5].find(text=True))\n",
    "                col7_list.append(cells[6].find(text=True))\n",
    "\n",
    "        page = soup.find(class_=\"page-navigator\")\n",
    "        current_page = page.find('span', {'data-reactid':\".0.2.3.1.4.0.1\"}).text\n",
    "        tot_page = page.find('span', {'data-reactid':\".0.2.3.1.4.0.3\"}).text\n",
    "\n",
    "        if current_page!=tot_page:\n",
    "            wait_button = WebDriverWait(driver, 10)\n",
    "            next_button = wait_button.until(EC.element_to_be_clickable((By.CLASS_NAME, 'nextButton')))\n",
    "            current_button = next_button\n",
    "            next_button.click()\n",
    "        else:\n",
    "            driver.close()\n",
    "\n",
    "    \n",
    "    except Exception as e:\n",
    "        print(e)        \n",
    "        break\n",
    "        \n",
    "\n",
    "        "
   ]
  },
  {
   "cell_type": "code",
   "execution_count": null,
   "metadata": {},
   "outputs": [],
   "source": [
    "import pandas as pd\n",
    "us_aid = pd.DataFrame(col1_list, columns=['Activity'])\n",
    "                       \n",
    "\n",
    "\n",
    "us_aid['Country'] = col2_list\n",
    "\n",
    "us_aid['Implementing_agency'] = col3_list\n",
    "\n",
    "us_aid['Sector'] = col4_list\n",
    "us_aid['Funding_ac'] = col5_list\n",
    "us_aid['Fiscal_year'] = col6_list\n",
    "us_aid['Current_amount'] = col7_list\n",
    "\n",
    "                       \n",
    "                       \n",
    "#print(us_aid.head().T)\n",
    "us_aid.info()\n"
   ]
  },
  {
   "cell_type": "markdown",
   "metadata": {},
   "source": [
    "#cleaning"
   ]
  },
  {
   "cell_type": "code",
   "execution_count": 68,
   "metadata": {},
   "outputs": [],
   "source": [
    "new = us_aid.Current_amount.apply(lambda x: x.replace(',', ''))\n",
    "new=new.apply(lambda x:x.replace('$',''))"
   ]
  },
  {
   "cell_type": "code",
   "execution_count": 69,
   "metadata": {},
   "outputs": [],
   "source": [
    "\n",
    "#dont run more than once\n",
    "new = new.astype('float')\n",
    "new\n",
    "us_aid.Current_amount= new\n"
   ]
  },
  {
   "cell_type": "code",
   "execution_count": 70,
   "metadata": {},
   "outputs": [],
   "source": [
    "us_aid.Fiscal_year = us_aid.Fiscal_year.astype('str')\n",
    "us_aid.Country = us_aid.Country.astype('str')\n",
    "us_aid.Implementing_agency = us_aid.Implementing_agency.astype('str')\n",
    "us_aid.Sector = us_aid.Sector.astype('str')\n",
    "us_aid.Funding_ac = us_aid.Funding_ac.astype('str')"
   ]
  },
  {
   "cell_type": "code",
   "execution_count": 98,
   "metadata": {},
   "outputs": [],
   "source": [
    "us_aid = us_aid.loc[us_aid.Country!='None', ]  # do this after converting to character\n",
    "\n",
    "#us_aid.info()"
   ]
  },
  {
   "cell_type": "code",
   "execution_count": 72,
   "metadata": {},
   "outputs": [],
   "source": [
    "us_aid = us_aid.loc[us_aid.Current_amount>=0, ]         #filtering positive amounts\n",
    "#us_aid.info()"
   ]
  },
  {
   "cell_type": "code",
   "execution_count": 80,
   "metadata": {},
   "outputs": [],
   "source": [
    "us_aid.Current_amount= us_aid.Current_amount.astype(np.int64)\n",
    "us_aid.Fiscal_year = us_aid.Fiscal_year.astype(np.int64)\n",
    "#us_aid.info()"
   ]
  },
  {
   "cell_type": "code",
   "execution_count": 97,
   "metadata": {},
   "outputs": [],
   "source": [
    "#us_aid.info()"
   ]
  },
  {
   "cell_type": "code",
   "execution_count": 96,
   "metadata": {},
   "outputs": [],
   "source": [
    "#Dont run more than once\n",
    "us_aid.to_csv('C:/Users/My/us_aidd.csv', encoding='utf-8')"
   ]
  },
  {
   "cell_type": "markdown",
   "metadata": {},
   "source": [
    "#Manipualtion"
   ]
  },
  {
   "cell_type": "code",
   "execution_count": 94,
   "metadata": {},
   "outputs": [
    {
     "name": "stdout",
     "output_type": "stream",
     "text": [
      "4\n"
     ]
    }
   ],
   "source": [
    "\n",
    "group_country = us_aid.groupby(['Country'])['Current_amount'].agg(['count', 'sum', 'max','min'])\n",
    "#.sort_values(by='sum')\n",
    "print(group_country.size)\n",
    "#.sort_values(by='total'))"
   ]
  },
  {
   "cell_type": "code",
   "execution_count": 95,
   "metadata": {},
   "outputs": [
    {
     "name": "stdout",
     "output_type": "stream",
     "text": [
      "60\n"
     ]
    }
   ],
   "source": [
    "group_sector = us_aid.groupby(['Sector'])[['Current_amount']].agg(['count', 'sum', 'max','min'])\n",
    "#.sort_values(by='sum')\n",
    "print(group_sector.size)\n",
    "#.sort_values(by='total'))"
   ]
  },
  {
   "cell_type": "code",
   "execution_count": 64,
   "metadata": {},
   "outputs": [
    {
     "name": "stdout",
     "output_type": "stream",
     "text": [
      "17\n"
     ]
    }
   ],
   "source": [
    "group_country_yr = us_aid.groupby(['Country','Fiscal_year'])['Current_amount'].sum().sort_values(ascending=False)\n",
    "print(group_country_yr.size)\n",
    "      #\n"
   ]
  },
  {
   "cell_type": "code",
   "execution_count": 84,
   "metadata": {},
   "outputs": [
    {
     "name": "stdout",
     "output_type": "stream",
     "text": [
      "58\n"
     ]
    }
   ],
   "source": [
    "group_sector_yr = us_aid.groupby(['Sector', 'Fiscal_year'])['Current_amount'].sum().sort_values(ascending=False)\n",
    "print(group_sector_yr.size)"
   ]
  },
  {
   "cell_type": "code",
   "execution_count": 87,
   "metadata": {},
   "outputs": [
    {
     "data": {
      "text/plain": [
       "58"
      ]
     },
     "execution_count": 87,
     "metadata": {},
     "output_type": "execute_result"
    }
   ],
   "source": [
    "group_csecyr = us_aid.groupby(['Country', 'Sector','Fiscal_year'])['Current_amount'].sum().sort_values(ascending=False)\n",
    "group_csecyr.size\n",
    "#.sort_values(by='current_amount')"
   ]
  }
 ],
 "metadata": {
  "kernelspec": {
   "display_name": "Python 3",
   "language": "python",
   "name": "python3"
  },
  "language_info": {
   "codemirror_mode": {
    "name": "ipython",
    "version": 3
   },
   "file_extension": ".py",
   "mimetype": "text/x-python",
   "name": "python",
   "nbconvert_exporter": "python",
   "pygments_lexer": "ipython3",
   "version": "3.6.3"
  }
 },
 "nbformat": 4,
 "nbformat_minor": 2
}
